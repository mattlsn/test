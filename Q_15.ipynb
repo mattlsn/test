{
  "cells": [
    {
      "cell_type": "markdown",
      "metadata": {
        "id": "view-in-github",
        "colab_type": "text"
      },
      "source": [
        "<a href=\"https://colab.research.google.com/github/mattlsn/test/blob/main/Q_15.ipynb\" target=\"_parent\"><img src=\"https://colab.research.google.com/assets/colab-badge.svg\" alt=\"Open In Colab\"/></a>"
      ]
    },
    {
      "cell_type": "markdown",
      "metadata": {
        "id": "YNvOgNfSnoFB"
      },
      "source": [
        "# openCV 作業：\n",
        "* 題目 ：請找一段約一分鐘左右的影片，利用上課時學過的影像處理功能，發揮所有創意和想像，將該影片加工特效，產生一段新影片，怕誤解同學的創意，請將你的亮點盡可能寫在影片中的右下角\n",
        "\n",
        "* 上傳 ：導師會有告訴同學上傳空間, 或可上傳到Youtube 或自己的雲端空間, 把連結給老師(依導師規範為準)\n",
        "\n",
        "* 繳交日期 ：課後二週\n",
        "\n",
        "* 評分 ：亮點愈亮，創意愈多，分數愈高\n",
        "\n",
        "* 參考 :<br>\n",
        "https://www.youtube.com/watch?v=Fszu0L1JtqM"
      ]
    },
    {
      "cell_type": "code",
      "execution_count": null,
      "metadata": {
        "id": "3nuV1LDxnoFE"
      },
      "outputs": [],
      "source": [
        "import cv2\n",
        "\n",
        "# 讀取影片檔案\n",
        "cap = cv2.VideoCapture('case.mp4')\n",
        "\n",
        "# 設置影片寬高、FPS、四字符代碼（編碼方式）\n",
        "frame_width = int(cap.get(3))\n",
        "frame_height = int(cap.get(4))\n",
        "out = cv2.VideoWriter('output_video.avi', cv2.VideoWriter_fourcc('M', 'J', 'P', 'G'), 10, (frame_width, frame_height))\n",
        "\n",
        "# 獲取總幀數\n",
        "total_frames = int(cap.get(cv2.CAP_PROP_FRAME_COUNT))\n",
        "\n",
        "# 初始化 FastFeatureDetector\n",
        "fast = cv2.FastFeatureDetector_create()\n",
        "\n",
        "# 設定加入Sobel和Canny的起始和結束幀數\n",
        "sobel_start_frame = 1800\n",
        "sobel_end_frame = sobel_start_frame + 200\n",
        "canny_start_frame = 2000\n",
        "canny_end_frame = canny_start_frame + 200\n",
        "\n",
        "# 開始處理每一幀\n",
        "frame_count = 0\n",
        "while True:\n",
        "    ret, frame = cap.read()\n",
        "\n",
        "    if ret:\n",
        "        frame = cv2.resize(frame, (0, 0), fx=0.4, fy=0.4)\n",
        "\n",
        "        if frame_count < total_frames:\n",
        "            if frame_count < 200:\n",
        "                # 前200幀：灰階播放\n",
        "                display_frame = cv2.cvtColor(frame, cv2.COLOR_BGR2GRAY)\n",
        "            elif frame_count < 400:\n",
        "                # 接著的200幀：BGR播放\n",
        "                display_frame = frame\n",
        "            elif frame_count < 600:\n",
        "                # 再接著的200幀：RGB播放\n",
        "                display_frame = cv2.cvtColor(frame, cv2.COLOR_BGR2RGB)\n",
        "            elif frame_count < 800:\n",
        "                # 再接著的200幀：R通道播放\n",
        "                display_frame = frame.copy()\n",
        "                display_frame[:, :, 1] = 0\n",
        "                display_frame[:, :, 2] = 0\n",
        "            elif frame_count < 1000:\n",
        "                # 接著的200幀：G通道播放\n",
        "                display_frame = frame.copy()\n",
        "                display_frame[:, :, 0] = 0\n",
        "                display_frame[:, :, 2] = 0\n",
        "            elif frame_count < 1200:\n",
        "                # 再接著的200幀：B通道播放\n",
        "                display_frame = frame.copy()\n",
        "                display_frame[:, :, 0] = 0\n",
        "                display_frame[:, :, 1] = 0\n",
        "            elif frame_count < 1400:\n",
        "                # 再接著的200幀：水平翻轉（flip x）\n",
        "                display_frame = cv2.flip(frame, 1)\n",
        "            elif frame_count < 1600:\n",
        "                # 再接著的200幀：垂直翻轉（flip y）\n",
        "                display_frame = cv2.flip(frame, 0)\n",
        "            elif frame_count < 1800:\n",
        "                # 最後的200幀：同時水平垂直翻轉（flip xy）\n",
        "                display_frame = cv2.flip(frame, -1)\n",
        "            elif sobel_start_frame <= frame_count < sobel_end_frame:\n",
        "                # Sobel效果\n",
        "                display_frame = cv2.Sobel(frame, cv2.CV_64F, 1, 0, ksize=5)\n",
        "                display_frame = cv2.convertScaleAbs(display_frame)\n",
        "            elif canny_start_frame <= frame_count < canny_end_frame:\n",
        "                # Canny效果\n",
        "                display_frame = cv2.Canny(frame, 50, 150)\n",
        "            else:\n",
        "                # 其他情況：FastFeatureDetector\n",
        "                keypoints = fast.detect(frame, None)\n",
        "                display_frame = cv2.drawKeypoints(frame, keypoints, None, color=(255, 0, 0))\n",
        "\n",
        "            # 在影片右下角註寫當前幀數\n",
        "            font = cv2.FONT_HERSHEY_SIMPLEX\n",
        "            cv2.putText(display_frame, 'Frame: {}'.format(frame_count), (10, 30), font, 1, (255, 255, 255), 2, cv2.LINE_AA)\n",
        "\n",
        "            # 顯示及保存影片\n",
        "            cv2.imshow('Video', display_frame)\n",
        "            out.write(display_frame)\n",
        "\n",
        "        else:\n",
        "            break  # 退出循環，播放完成\n",
        "    else:\n",
        "        break\n",
        "\n",
        "    frame_count += 1\n",
        "\n",
        "    # 按 'q' 退出\n",
        "    if cv2.waitKey(1) == ord(\"q\"):\n",
        "        break\n",
        "\n",
        "# 釋放 VideoWriter 對象\n",
        "out.release()\n",
        "\n",
        "# 釋放視訊捕獲對象和關閉所有窗口\n",
        "cap.release()\n",
        "cv2.destroyAllWindows()\n"
      ]
    },
    {
      "cell_type": "code",
      "execution_count": null,
      "metadata": {
        "id": "as50U47pnoFF"
      },
      "outputs": [],
      "source": []
    },
    {
      "cell_type": "code",
      "execution_count": null,
      "metadata": {
        "id": "7NlQR0_3noFF"
      },
      "outputs": [],
      "source": []
    }
  ],
  "metadata": {
    "kernelspec": {
      "display_name": "Python 3 (ipykernel)",
      "language": "python",
      "name": "python3"
    },
    "language_info": {
      "codemirror_mode": {
        "name": "ipython",
        "version": 3
      },
      "file_extension": ".py",
      "mimetype": "text/x-python",
      "name": "python",
      "nbconvert_exporter": "python",
      "pygments_lexer": "ipython3",
      "version": "3.9.18"
    },
    "colab": {
      "provenance": [],
      "include_colab_link": true
    }
  },
  "nbformat": 4,
  "nbformat_minor": 0
}